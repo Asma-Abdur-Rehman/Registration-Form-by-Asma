{
 "cells": [
  {
   "cell_type": "code",
   "execution_count": 57,
   "id": "40a7f31e",
   "metadata": {},
   "outputs": [
    {
     "name": "stdout",
     "output_type": "stream",
     "text": [
      "Successfully Registered\n"
     ]
    }
   ],
   "source": [
    "import tkinter as tk\n",
    "from tkinter import *\n",
    "from tkinter import ttk\n",
    "from random import randint\n",
    "\n",
    "root=Tk()\n",
    "root.geometry(\"700x300\")\n",
    "\n",
    "def submition():\n",
    "    print(\"Successfully Registered\")\n",
    "    \n",
    "a=Label(root,text=\"REGISTRATION FORM\",font=\"times 15 bold\").grid(row=0,column=2)\n",
    "\n",
    "username=Label(root,text=\"Full name\")\n",
    "username.grid(row=1,column=1)\n",
    "useremail=Label(root,text=\"Email\")\n",
    "useremail.grid(row=2,column=1)\n",
    "usergender=Label(root,text=\"Gender\")\n",
    "usergender.grid(row=3,column=1)\n",
    "usercountry=Label(root,text=\"Country\")\n",
    "usercountry.grid(row=4,column=1)\n",
    "userprogramming=Label(root,text=\"Programming\")\n",
    "userprogramming.grid(row=5,column=1)\n",
    "\n",
    "name_value=StringVar\n",
    "email_value=StringVar\n",
    "gender_value=StringVar\n",
    "country_value=StringVar\n",
    "programming_value=StringVar\n",
    "\n",
    "name_box=Entry(root,textvariable=name_value)\n",
    "name_box.grid(row=1,column=3)\n",
    "email_box=Entry(root,textvariable=email_value)\n",
    "email_box.grid(row=2,column=3)\n",
    "Var=IntVar()\n",
    "tk.Radiobutton(root,text=\"Male\",padx=5,variable=Var,value=1).grid(row=3,column=3)\n",
    "tk.Radiobutton(root,text=\"Female\",padx=20,variable=Var,value=2).grid(row=3,column=4)\n",
    "clicked=StringVar()\n",
    "clicked.set(\"Select your country\")\n",
    "drop=OptionMenu(root,clicked,\"China\",\"Pakistan\",\"Iraq\",\"Iran\",\"Bangladesh\",\"India\",\"England\",\"Dubai\",\"other\")\n",
    "drop.grid(row=4,column=3)\n",
    "var1=IntVar()\n",
    "check1=Checkbutton(root,text=\"Java\",variable=var1)\n",
    "check1.select()\n",
    "check1.grid(row=5, column = 3)\n",
    "var2=IntVar()\n",
    "check2=Checkbutton(root,text=\"Python\",variable=var2)\n",
    "check2.select()\n",
    "check2.grid(row=5, column = 4)\n",
    "\n",
    "b=Button(text=\"Submit\",command=submition,fg=\"white\",bg=\"red\").grid(row=7,column=1)\n",
    "\n",
    "root.mainloop()"
   ]
  },
  {
   "cell_type": "code",
   "execution_count": null,
   "id": "be7266a7",
   "metadata": {},
   "outputs": [],
   "source": []
  }
 ],
 "metadata": {
  "kernelspec": {
   "display_name": "Python 3 (ipykernel)",
   "language": "python",
   "name": "python3"
  },
  "language_info": {
   "codemirror_mode": {
    "name": "ipython",
    "version": 3
   },
   "file_extension": ".py",
   "mimetype": "text/x-python",
   "name": "python",
   "nbconvert_exporter": "python",
   "pygments_lexer": "ipython3",
   "version": "3.8.9"
  }
 },
 "nbformat": 4,
 "nbformat_minor": 5
}
